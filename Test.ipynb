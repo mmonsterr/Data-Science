{
 "cells": [
  {
   "cell_type": "code",
   "execution_count": 9,
   "id": "5be21f08",
   "metadata": {},
   "outputs": [
    {
     "name": "stdout",
     "output_type": "stream",
     "text": [
      "Collecting package metadata (current_repodata.json): done\n",
      "Solving environment: done\n",
      "\n",
      "## Package Plan ##\n",
      "\n",
      "  environment location: /home/cyj/miniconda3/envs/data\n",
      "\n",
      "  added / updated specs:\n",
      "    - matplotlib\n",
      "\n",
      "\n",
      "The following packages will be downloaded:\n",
      "\n",
      "    package                    |            build\n",
      "    ---------------------------|-----------------\n",
      "    brotli-1.0.9               |       he6710b0_2         375 KB  https://mirrors.tuna.tsinghua.edu.cn/anaconda/pkgs/main\n",
      "    cycler-0.11.0              |     pyhd3eb1b0_0          12 KB  https://mirrors.tuna.tsinghua.edu.cn/anaconda/pkgs/main\n",
      "    fonttools-4.25.0           |     pyhd3eb1b0_0         632 KB  https://mirrors.tuna.tsinghua.edu.cn/anaconda/pkgs/main\n",
      "    giflib-5.2.1               |       h7b6447c_0          78 KB  https://mirrors.tuna.tsinghua.edu.cn/anaconda/pkgs/main\n",
      "    kiwisolver-1.3.2           |   py38h295c915_0          80 KB  https://mirrors.tuna.tsinghua.edu.cn/anaconda/pkgs/main\n",
      "    lcms2-2.12                 |       h3be6417_0         312 KB  https://mirrors.tuna.tsinghua.edu.cn/anaconda/pkgs/main\n",
      "    libtiff-4.2.0              |       h85742a9_0         502 KB  https://mirrors.tuna.tsinghua.edu.cn/anaconda/pkgs/main\n",
      "    libwebp-1.2.2              |       h55f646e_0          80 KB  https://mirrors.tuna.tsinghua.edu.cn/anaconda/pkgs/main\n",
      "    libwebp-base-1.2.2         |       h7f8727e_0         440 KB  https://mirrors.tuna.tsinghua.edu.cn/anaconda/pkgs/main\n",
      "    lz4-c-1.9.3                |       h295c915_1         185 KB  https://mirrors.tuna.tsinghua.edu.cn/anaconda/pkgs/main\n",
      "    matplotlib-3.5.1           |   py38h06a4308_1          29 KB  https://mirrors.tuna.tsinghua.edu.cn/anaconda/pkgs/main\n",
      "    matplotlib-base-3.5.1      |   py38ha18d171_1         5.7 MB  https://mirrors.tuna.tsinghua.edu.cn/anaconda/pkgs/main\n",
      "    munkres-1.1.4              |             py_0          13 KB  https://mirrors.tuna.tsinghua.edu.cn/anaconda/pkgs/main\n",
      "    pillow-9.0.1               |   py38h22f2fdc_0         659 KB  https://mirrors.tuna.tsinghua.edu.cn/anaconda/pkgs/main\n",
      "    zstd-1.4.9                 |       haebb681_0         480 KB  https://mirrors.tuna.tsinghua.edu.cn/anaconda/pkgs/main\n",
      "    ------------------------------------------------------------\n",
      "                                           Total:         9.5 MB\n",
      "\n",
      "The following NEW packages will be INSTALLED:\n",
      "\n",
      "  brotli             anaconda/pkgs/main/linux-64::brotli-1.0.9-he6710b0_2\n",
      "  cycler             anaconda/pkgs/main/noarch::cycler-0.11.0-pyhd3eb1b0_0\n",
      "  fonttools          anaconda/pkgs/main/noarch::fonttools-4.25.0-pyhd3eb1b0_0\n",
      "  giflib             anaconda/pkgs/main/linux-64::giflib-5.2.1-h7b6447c_0\n",
      "  kiwisolver         anaconda/pkgs/main/linux-64::kiwisolver-1.3.2-py38h295c915_0\n",
      "  lcms2              anaconda/pkgs/main/linux-64::lcms2-2.12-h3be6417_0\n",
      "  libtiff            anaconda/pkgs/main/linux-64::libtiff-4.2.0-h85742a9_0\n",
      "  libwebp            anaconda/pkgs/main/linux-64::libwebp-1.2.2-h55f646e_0\n",
      "  libwebp-base       anaconda/pkgs/main/linux-64::libwebp-base-1.2.2-h7f8727e_0\n",
      "  lz4-c              anaconda/pkgs/main/linux-64::lz4-c-1.9.3-h295c915_1\n",
      "  matplotlib         anaconda/pkgs/main/linux-64::matplotlib-3.5.1-py38h06a4308_1\n",
      "  matplotlib-base    anaconda/pkgs/main/linux-64::matplotlib-base-3.5.1-py38ha18d171_1\n",
      "  munkres            anaconda/pkgs/main/noarch::munkres-1.1.4-py_0\n",
      "  pillow             anaconda/pkgs/main/linux-64::pillow-9.0.1-py38h22f2fdc_0\n",
      "  zstd               anaconda/pkgs/main/linux-64::zstd-1.4.9-haebb681_0\n",
      "\n",
      "\n",
      "\n",
      "Downloading and Extracting Packages\n",
      "lcms2-2.12           | 312 KB    | ##################################### | 100% \n",
      "cycler-0.11.0        | 12 KB     | ##################################### | 100% \n",
      "lz4-c-1.9.3          | 185 KB    | ##################################### | 100% \n",
      "kiwisolver-1.3.2     | 80 KB     | ##################################### | 100% \n",
      "munkres-1.1.4        | 13 KB     | ##################################### | 100% \n",
      "pillow-9.0.1         | 659 KB    | ##################################### | 100% \n",
      "matplotlib-3.5.1     | 29 KB     | ##################################### | 100% \n",
      "libwebp-base-1.2.2   | 440 KB    | ##################################### | 100% \n",
      "libtiff-4.2.0        | 502 KB    | ##################################### | 100% \n",
      "fonttools-4.25.0     | 632 KB    | ##################################### | 100% \n",
      "libwebp-1.2.2        | 80 KB     | ##################################### | 100% \n",
      "giflib-5.2.1         | 78 KB     | ##################################### | 100% \n",
      "brotli-1.0.9         | 375 KB    | ##################################### | 100% \n",
      "matplotlib-base-3.5. | 5.7 MB    | ##################################### | 100% \n",
      "zstd-1.4.9           | 480 KB    | ##################################### | 100% \n",
      "Preparing transaction: done\n",
      "Verifying transaction: done\n",
      "Executing transaction: done\n",
      "\n",
      "Note: you may need to restart the kernel to use updated packages.\n"
     ]
    }
   ],
   "source": [
    "conda install matplotlib"
   ]
  },
  {
   "cell_type": "code",
   "execution_count": null,
   "id": "baed0551",
   "metadata": {},
   "outputs": [],
   "source": []
  }
 ],
 "metadata": {
  "kernelspec": {
   "display_name": "Python 3 (ipykernel)",
   "language": "python",
   "name": "python3"
  },
  "language_info": {
   "codemirror_mode": {
    "name": "ipython",
    "version": 3
   },
   "file_extension": ".py",
   "mimetype": "text/x-python",
   "name": "python",
   "nbconvert_exporter": "python",
   "pygments_lexer": "ipython3",
   "version": "3.8.13"
  }
 },
 "nbformat": 4,
 "nbformat_minor": 5
}
