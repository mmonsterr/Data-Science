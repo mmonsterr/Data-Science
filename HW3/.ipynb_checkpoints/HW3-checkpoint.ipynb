{
 "cells": [
  {
   "cell_type": "markdown",
   "id": "b26fe4a1",
   "metadata": {},
   "source": [
    "# 卡方检验"
   ]
  },
  {
   "cell_type": "markdown",
   "id": "a4f920d0",
   "metadata": {},
   "source": [
    "## 原理"
   ]
  },
  {
   "cell_type": "markdown",
   "id": "a311e40d",
   "metadata": {},
   "source": [
    "主要刻画的是一个总体（n 个随机变量）为标准正态分布时，\n",
    "所对应的样本方差（随机变量的平方和）的分布情况"
   ]
  },
  {
   "cell_type": "markdown",
   "id": "f76b1d6a",
   "metadata": {},
   "source": [
    "## 过程"
   ]
  },
  {
   "cell_type": "markdown",
   "id": "d266b73b",
   "metadata": {},
   "source": [
    "设总体服从正态分布𝑋\\~𝑁(𝜇, 𝜎^2)，𝑋1 ，𝑋2 ，… ，𝑋𝑛为来自正态总体的样本\n",
    "则样本方差s^2的分布为(n-1)s^2/𝜎^2\\~X^2(n-1)"
   ]
  },
  {
   "cell_type": "code",
   "execution_count": 11,
   "id": "92206127",
   "metadata": {},
   "outputs": [],
   "source": [
    "# Load Data\n",
    "import pandas as pd\n",
    "df = pd.read_csv('scores.csv',encoding='utf-8')"
   ]
  },
  {
   "cell_type": "code",
   "execution_count": 13,
   "id": "5bcec940",
   "metadata": {},
   "outputs": [
    {
     "name": "stdout",
     "output_type": "stream",
     "text": [
      "所属学校    A学校  B学校  All\n",
      "成绩是否合格               \n",
      "不合格      36   40   76\n",
      "合格       86   77  163\n",
      "All     122  117  239\n"
     ]
    }
   ],
   "source": [
    "cross_table = pd.crosstab(df['成绩是否合格'], df['所属学校'], margins=True)\n",
    "print(cross_table)"
   ]
  },
  {
   "cell_type": "code",
   "execution_count": 16,
   "id": "958a72a9",
   "metadata": {},
   "outputs": [
    {
     "name": "stdout",
     "output_type": "stream",
     "text": [
      "所属学校         A学校       B学校  All\n",
      "成绩是否合格                         \n",
      "不合格     0.473684  0.526316  1.0\n",
      "合格      0.527607  0.472393  1.0\n",
      "All     0.510460  0.489540  1.0\n"
     ]
    }
   ],
   "source": [
    "# 转换为频率\n",
    "cross_table_last = cross_table.div(cross_table['All'], axis=0)\n",
    "print(cross_table_last)"
   ]
  },
  {
   "cell_type": "code",
   "execution_count": 22,
   "id": "be77780c",
   "metadata": {},
   "outputs": [
    {
     "name": "stdout",
     "output_type": "stream",
     "text": [
      "chisq = 0.6031\n",
      " p-value = 0.9627\n",
      " dof = 4\n",
      " expected_freq = [[ 38.79497908  37.20502092  76.        ]\n",
      " [ 83.20502092  79.79497908 163.        ]\n",
      " [122.         117.         239.        ]]\n"
     ]
    }
   ],
   "source": [
    "from scipy import stats\n",
    "# chi2_contingency:卡方检验,chisq:卡方统计量值,dof=自由度,expected_freq:期望频数\n",
    "print('chisq = %6.4f\\n p-value = %6.4f\\n dof = %i\\n expected_freq = %s'\n",
    "      %stats.chi2_contingency(cross_table))"
   ]
  },
  {
   "cell_type": "markdown",
   "id": "c399ba9a",
   "metadata": {},
   "source": [
    "# T检验"
   ]
  },
  {
   "cell_type": "markdown",
   "id": "0ce0b9bc",
   "metadata": {},
   "source": [
    "## 原理"
   ]
  },
  {
   "cell_type": "markdown",
   "id": "2d33f514",
   "metadata": {},
   "source": [
    "在数据分析中，当总体标准差𝜎为未知数时，我们可以采用t分布，用样本标准差S代替总体标准差𝜎，由样本平均数推断总体平均数及两个小样本之间的显著性检验"
   ]
  },
  {
   "cell_type": "markdown",
   "id": "910e6c60",
   "metadata": {},
   "source": [
    "## 过程"
   ]
  },
  {
   "cell_type": "markdown",
   "id": "552ecc05",
   "metadata": {},
   "source": [
    "1.建立假设、确定检验水准α。  \n",
    "2.计算检验统计量。  \n",
    "3.查相应界值表，确定P值，下结论。\n"
   ]
  },
  {
   "cell_type": "code",
   "execution_count": 25,
   "id": "24731e3e",
   "metadata": {},
   "outputs": [
    {
     "name": "stdout",
     "output_type": "stream",
     "text": [
      "1960.7272727272727 \n",
      " 222.33966272312887\n"
     ]
    }
   ],
   "source": [
    "from scipy import stats\n",
    "import numpy as np\n",
    "arr = [1789, 1867, 2012, 2134, 1952, 1997, 1840, 1567, 2230, 2403,1777]\n",
    "mean = np.mean(arr)\n",
    "std = np.std(arr)\n",
    "print(mean,'\\n',std)"
   ]
  }
 ],
 "metadata": {
  "kernelspec": {
   "display_name": "Python 3 (ipykernel)",
   "language": "python",
   "name": "python3"
  },
  "language_info": {
   "codemirror_mode": {
    "name": "ipython",
    "version": 3
   },
   "file_extension": ".py",
   "mimetype": "text/x-python",
   "name": "python",
   "nbconvert_exporter": "python",
   "pygments_lexer": "ipython3",
   "version": "3.8.13"
  }
 },
 "nbformat": 4,
 "nbformat_minor": 5
}
