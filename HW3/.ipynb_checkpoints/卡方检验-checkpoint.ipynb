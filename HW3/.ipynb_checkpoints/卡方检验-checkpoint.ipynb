{
 "cells": [
  {
   "cell_type": "markdown",
   "id": "3387c2f4",
   "metadata": {},
   "source": [
    "# 数据处理"
   ]
  },
  {
   "cell_type": "markdown",
   "id": "541e6bc5",
   "metadata": {},
   "source": [
    "卡方检验：统计样本的实际观测与理论推断值之间的偏离程度。\n",
    "使用公式计算卡方值：\n",
    "卡方值越大，实际观测值与理论推断值之间的偏离程度越大；\n",
    "卡方值越小，区域符合，当卡方值为0时，量值完全不符合。"
   ]
  },
  {
   "cell_type": "code",
   "execution_count": 5,
   "id": "8851780a",
   "metadata": {},
   "outputs": [
    {
     "name": "stdout",
     "output_type": "stream",
     "text": [
      "所属学校    A学校  B学校  All\n",
      "成绩是否合格               \n",
      "不合格      36   40   76\n",
      "合格       86   77  163\n",
      "All     122  117  239\n"
     ]
    }
   ],
   "source": [
    "import pandas as pd\n",
    "df = pd.read_csv('scores.csv')\n",
    "\n",
    "# crosstab:交叉表,margins:显示总和\n",
    "cross_table = pd.crosstab(df['成绩是否合格'], df['所属学校'], margins=True)\n",
    "print(cross_table)"
   ]
  },
  {
   "cell_type": "code",
   "execution_count": 6,
   "id": "4d80b155",
   "metadata": {},
   "outputs": [
    {
     "name": "stdout",
     "output_type": "stream",
     "text": [
      "所属学校         A学校       B学校  All\n",
      "成绩是否合格                         \n",
      "不合格     0.473684  0.526316  1.0\n",
      "合格      0.527607  0.472393  1.0\n",
      "All     0.510460  0.489540  1.0\n"
     ]
    }
   ],
   "source": [
    "# 转换列表为频率数据\n",
    "cross_table_last = cross_table.div(cross_table['All'], axis=0)\n",
    "print(cross_table_last)"
   ]
  },
  {
   "cell_type": "markdown",
   "id": "05f97fe4",
   "metadata": {},
   "source": [
    "# 输出自由度、卡方值、p值和最终检验结果"
   ]
  },
  {
   "cell_type": "code",
   "execution_count": 7,
   "id": "f45301e0",
   "metadata": {},
   "outputs": [
    {
     "name": "stdout",
     "output_type": "stream",
     "text": [
      "chisq = 0.6031\n",
      " p-value = 0.9627\n",
      " dof = 4\n",
      " expected_freq = [[ 38.79497908  37.20502092  76.        ]\n",
      " [ 83.20502092  79.79497908 163.        ]\n",
      " [122.         117.         239.        ]]\n"
     ]
    }
   ],
   "source": [
    "from scipy import stats\n",
    "\n",
    "# chi2_contingency:卡方检验,chisq:卡方值,p-value:p值,dof:自由度,expected_freq:期望频数\n",
    "\n",
    "print('chisq = %6.4f\\n p-value = %6.4f\\n dof = %i\\n expected_freq = %s' %stats.chi2_contingency(cross_table))"
   ]
  }
 ],
 "metadata": {
  "kernelspec": {
   "display_name": "Python 3 (ipykernel)",
   "language": "python",
   "name": "python3"
  },
  "language_info": {
   "codemirror_mode": {
    "name": "ipython",
    "version": 3
   },
   "file_extension": ".py",
   "mimetype": "text/x-python",
   "name": "python",
   "nbconvert_exporter": "python",
   "pygments_lexer": "ipython3",
   "version": "3.8.10"
  }
 },
 "nbformat": 4,
 "nbformat_minor": 5
}
