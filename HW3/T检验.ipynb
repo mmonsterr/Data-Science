{
 "cells": [
  {
   "cell_type": "markdown",
   "id": "cd696f0a",
   "metadata": {},
   "source": [
    "# T检验"
   ]
  },
  {
   "cell_type": "markdown",
   "id": "f43b90b5",
   "metadata": {},
   "source": [
    "基本原理：t检验是用t分布理论来推论差异发生的概率 ，从而比较两个平均数的差异是否显著。"
   ]
  },
  {
   "cell_type": "markdown",
   "id": "26b90fb2",
   "metadata": {},
   "source": [
    "过程：1.建立假设、确定检验水准α。2.计算检验统计量。3.查相应界值表，确定P值，下结论。"
   ]
  },
  {
   "cell_type": "code",
   "execution_count": 10,
   "id": "c57ed6f4",
   "metadata": {},
   "outputs": [
    {
     "name": "stdout",
     "output_type": "stream",
     "text": [
      "1960.7272727272727 \n",
      " 233.19180556318477\n"
     ]
    }
   ],
   "source": [
    "import numpy as np \n",
    "arr = [1789, 1867, 2012, 2134, 1952, 1997, 1840, 1567, 2230, 2403,1777]\n",
    "#求均值\n",
    "mean = np.mean(arr)\n",
    "#求标准差\n",
    "std = np.std(arr,ddof=1)\n",
    "print(mean,\"\\n\",std)"
   ]
  },
  {
   "cell_type": "code",
   "execution_count": 4,
   "id": "884d7f6c",
   "metadata": {},
   "outputs": [],
   "source": [
    "from scipy.stats import ttest_1samp\n",
    "from scipy import stats\n",
    "\n",
    "rvs = stats.norm.rvs(loc=mean, scale=std, size=(50)) # 生成灯泡的样本\n",
    "t, p = ttest_1samp(rvs, 2000)"
   ]
  },
  {
   "cell_type": "code",
   "execution_count": 7,
   "id": "75807efd",
   "metadata": {},
   "outputs": [
    {
     "data": {
      "text/plain": [
       "0.05876222814495184"
      ]
     },
     "execution_count": 7,
     "metadata": {},
     "output_type": "execute_result"
    }
   ],
   "source": [
    "p"
   ]
  },
  {
   "cell_type": "markdown",
   "id": "2f0054e8",
   "metadata": {},
   "source": [
    "p值大于0.05，说明我们不能拒绝原假设，因此本批灯泡不合格"
   ]
  }
 ],
 "metadata": {
  "kernelspec": {
   "display_name": "Python 3 (ipykernel)",
   "language": "python",
   "name": "python3"
  },
  "language_info": {
   "codemirror_mode": {
    "name": "ipython",
    "version": 3
   },
   "file_extension": ".py",
   "mimetype": "text/x-python",
   "name": "python",
   "nbconvert_exporter": "python",
   "pygments_lexer": "ipython3",
   "version": "3.8.13"
  }
 },
 "nbformat": 4,
 "nbformat_minor": 5
}
