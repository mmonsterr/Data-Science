{
 "cells": [
  {
   "cell_type": "code",
   "execution_count": null,
   "metadata": {},
   "outputs": [
    {
     "ename": "",
     "evalue": "",
     "output_type": "error",
     "traceback": [
      "\u001b[1;31mThe kernel failed to start due to the missing module 'zmq'. Consider installing this module.\n",
      "Click <a href='https://aka.ms/kernelFailuresMissingModule'>here</a> for more info."
     ]
    }
   ],
   "source": [
    "import pandas as pd\n",
    "import numpy as np\n",
    "column_names = [\"Date\", \"Price\", \"Open\", \"High\", \"Low\"]"
   ]
  },
  {
   "cell_type": "markdown",
   "metadata": {},
   "source": [
    "pip install zmq"
   ]
  },
  {
   "cell_type": "markdown",
   "metadata": {},
   "source": [
    "# Load data"
   ]
  },
  {
   "cell_type": "code",
   "execution_count": null,
   "metadata": {},
   "outputs": [],
   "source": [
    "path= 'TSLA.csv'\n",
    "with open(path)as file:\n",
    "    data=pd.read_csv(file,header=0,encoding='UTF-8')\n",
    "    print(\"Data Loaded!\")\n",
    "    npdata=data.to_numpy()"
   ]
  },
  {
   "cell_type": "markdown",
   "metadata": {},
   "source": [
    "# TASK1 查找NaN的位置返回并删除NaN所在行"
   ]
  },
  {
   "cell_type": "markdown",
   "metadata": {},
   "source": [
    "##### 查找位置"
   ]
  },
  {
   "cell_type": "code",
   "execution_count": null,
   "metadata": {},
   "outputs": [],
   "source": [
    "# 从内到外依次为：\n",
    "# 获取除了Data的列——>查找NaN所在的位置——>保留行号信息——>去重——>保存在position中\n",
    "position = np.unique(np.where(np.isnan(npdata[:,1:].astype(float)))[0])\n",
    "\n",
    "# 去除了标题行，并且标号从0开始，故转化为原来csv表需要加上2\n",
    "print(\"NaN所在行数为\")\n",
    "print(position+2)"
   ]
  },
  {
   "cell_type": "markdown",
   "metadata": {},
   "source": [
    "#### 删除NaN所在行\n"
   ]
  },
  {
   "cell_type": "code",
   "execution_count": null,
   "metadata": {},
   "outputs": [],
   "source": [
    "del_nan = data.drop(axis=0,index=position)\n",
    "del_nan"
   ]
  },
  {
   "cell_type": "markdown",
   "metadata": {},
   "source": [
    "# TASK2 删除重复的日期数据并打印出删除的行数"
   ]
  },
  {
   "cell_type": "code",
   "execution_count": null,
   "metadata": {},
   "outputs": [],
   "source": [
    "# 将npdata用上一问去掉NaN的data frame更新\n",
    "npdata = del_nan.to_numpy()"
   ]
  },
  {
   "cell_type": "code",
   "execution_count": null,
   "metadata": {},
   "outputs": [],
   "source": [
    "# 去重\n",
    "# Args: unique_date是保留的日期，left_rows是保留的行\n",
    "unique_date, left_rows = np.unique(npdata[:,0],return_index = True)"
   ]
  },
  {
   "cell_type": "code",
   "execution_count": null,
   "metadata": {},
   "outputs": [],
   "source": [
    "npdata"
   ]
  },
  {
   "cell_type": "code",
   "execution_count": null,
   "metadata": {},
   "outputs": [],
   "source": [
    "count = npdata[:,0].size-left_rows.size\n",
    "print(\"删除了{}行\".format(count))"
   ]
  },
  {
   "cell_type": "code",
   "execution_count": null,
   "metadata": {},
   "outputs": [],
   "source": [
    "# 将原来del_nan的行编号重新排列\n",
    "del_nan = pd.DataFrame(npdata,columns = column_names)"
   ]
  },
  {
   "cell_type": "code",
   "execution_count": null,
   "metadata": {},
   "outputs": [],
   "source": [
    "# 获取删除的行数\n",
    "del_rows = []\n",
    "for i in range(npdata[:,0].size):\n",
    "    if ((left_rows.__contains__(i))==False):\n",
    "        del_rows = np.append(del_rows,i).astype(int)\n",
    "print(\"有重复数据的行号为：\",del_rows)\n",
    "# 删除重复日期，保存在del_date中\n",
    "del_date = del_nan.drop(del_rows)\n",
    "print(\"删除重复日期成功！\")"
   ]
  },
  {
   "cell_type": "markdown",
   "metadata": {},
   "source": [
    "# TASK3 涨停跌停计算"
   ]
  },
  {
   "cell_type": "code",
   "execution_count": null,
   "metadata": {},
   "outputs": [],
   "source": [
    "column_names = [\"Date\", \"Price\", \"Open\", \"High\", \"Low\",\"Diff\"]"
   ]
  },
  {
   "cell_type": "code",
   "execution_count": null,
   "metadata": {},
   "outputs": [],
   "source": [
    "npdata =del_date.to_numpy()"
   ]
  },
  {
   "cell_type": "code",
   "execution_count": null,
   "metadata": {},
   "outputs": [],
   "source": [
    "price = npdata[:,1].astype(float)\n",
    "price_range = np.zeros(len(price))\n",
    "for i in range(len(price_range)-1):\n",
    "    price_range[i]=(price[i]-price[i+1])/price[i+1]\n",
    "price_range = np.around(price_range,4)"
   ]
  },
  {
   "cell_type": "code",
   "execution_count": null,
   "metadata": {},
   "outputs": [],
   "source": [
    "# 涨停天数\n",
    "trading_days = np.count_nonzero(price_range > 0.1)\n",
    "trading_days\n",
    "# 跌停天数\n",
    "stopdown_days = np.count_nonzero(price_range < -0.1)\n",
    "print(\"涨停天数为{}天，跌停天数为{}天\".format(trading_days,stopdown_days))"
   ]
  },
  {
   "cell_type": "code",
   "execution_count": null,
   "metadata": {},
   "outputs": [],
   "source": [
    "diff = np.zeros(len(npdata))\n",
    "for i in range(len(npdata)):\n",
    "    diff[i] = npdata[i,3]-npdata[i,4]\n",
    "np.around(diff,4)"
   ]
  },
  {
   "cell_type": "code",
   "execution_count": null,
   "metadata": {},
   "outputs": [],
   "source": [
    "npdata=np.insert(npdata,5,diff,axis=1)"
   ]
  },
  {
   "cell_type": "code",
   "execution_count": null,
   "metadata": {},
   "outputs": [],
   "source": [
    "npdata"
   ]
  },
  {
   "cell_type": "code",
   "execution_count": null,
   "metadata": {},
   "outputs": [],
   "source": [
    "save_csv = pd.DataFrame(npdata, columns=column_names)\n",
    "save_csv\n",
    "save_csv.to_csv('TSLA_processed.csv',index=False)"
   ]
  }
 ],
 "metadata": {
  "interpreter": {
   "hash": "e1f97f006b972e8dfe38a8d91c2bf2c031bf4f73ad3e0aca385f71094316cb0a"
  },
  "kernelspec": {
   "display_name": "Python 3.8.13 ('data')",
   "language": "python",
   "name": "python3"
  },
  "language_info": {
   "codemirror_mode": {
    "name": "ipython",
    "version": 3
   },
   "file_extension": ".py",
   "mimetype": "text/x-python",
   "name": "python",
   "nbconvert_exporter": "python",
   "pygments_lexer": "ipython3",
   "version": "3.8.13"
  }
 },
 "nbformat": 4,
 "nbformat_minor": 4
}
