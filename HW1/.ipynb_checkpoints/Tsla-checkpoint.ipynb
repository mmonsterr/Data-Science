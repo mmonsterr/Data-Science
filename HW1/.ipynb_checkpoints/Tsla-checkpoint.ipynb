{
 "cells": [
  {
   "cell_type": "code",
   "execution_count": 2,
   "metadata": {},
   "outputs": [],
   "source": [
    "import pandas as pd\n",
    "import numpy as np"
   ]
  },
  {
   "cell_type": "markdown",
   "metadata": {},
   "source": [
    "# Load data"
   ]
  },
  {
   "cell_type": "code",
   "execution_count": 57,
   "metadata": {},
   "outputs": [
    {
     "name": "stdout",
     "output_type": "stream",
     "text": [
      "Data Loaded!\n"
     ]
    }
   ],
   "source": [
    "path= 'TSLA.csv'\n",
    "with open(path)as file:\n",
    "    data=pd.read_csv(file,header=0,encoding='UTF-8')\n",
    "    print(\"Data Loaded!\")\n",
    "    npdata=data.to_numpy()"
   ]
  },
  {
   "cell_type": "markdown",
   "metadata": {},
   "source": [
    "# TASK1 查找NaN的位置返回并删除NaN所在行"
   ]
  },
  {
   "cell_type": "markdown",
   "metadata": {},
   "source": [
    "##### 查找位置"
   ]
  },
  {
   "cell_type": "code",
   "execution_count": 58,
   "metadata": {},
   "outputs": [
    {
     "name": "stdout",
     "output_type": "stream",
     "text": [
      "NaN所在行数为\n",
      "[  6   7  13  14  20  21  27  28  34  35  41  42  48  49  55  56  62  63\n",
      "  69  70  76  77  83  84  90  91  97  98 104 105 111 112 118 119 125 126\n",
      " 132 133 139 140 146 147 153 154 160 161 167 168 174 175]\n"
     ]
    }
   ],
   "source": [
    "# 从内到外依次为：\n",
    "# 获取除了Data的列——>查找NaN所在的位置——>保留行号信息——>去重——>保存在position中\n",
    "position = np.unique(np.where(np.isnan(npdata[:,1:].astype(float)))[0])\n",
    "\n",
    "# 去除了标题行，并且标号从0开始，故转化为原来csv表需要加上2\n",
    "print(\"NaN所在行数为\")\n",
    "print(position+2)"
   ]
  },
  {
   "cell_type": "markdown",
   "metadata": {},
   "source": [
    "#### 删除NaN所在行\n"
   ]
  },
  {
   "cell_type": "code",
   "execution_count": 183,
   "metadata": {},
   "outputs": [
    {
     "data": {
      "text/html": [
       "<div>\n",
       "<style scoped>\n",
       "    .dataframe tbody tr th:only-of-type {\n",
       "        vertical-align: middle;\n",
       "    }\n",
       "\n",
       "    .dataframe tbody tr th {\n",
       "        vertical-align: top;\n",
       "    }\n",
       "\n",
       "    .dataframe thead th {\n",
       "        text-align: right;\n",
       "    }\n",
       "</style>\n",
       "<table border=\"1\" class=\"dataframe\">\n",
       "  <thead>\n",
       "    <tr style=\"text-align: right;\">\n",
       "      <th></th>\n",
       "      <th>Date</th>\n",
       "      <th>Price</th>\n",
       "      <th>Open</th>\n",
       "      <th>High</th>\n",
       "      <th>Low</th>\n",
       "    </tr>\n",
       "  </thead>\n",
       "  <tbody>\n",
       "    <tr>\n",
       "      <th>0</th>\n",
       "      <td>2022/4/14</td>\n",
       "      <td>985.00</td>\n",
       "      <td>999.29</td>\n",
       "      <td>1012.71</td>\n",
       "      <td>982.19</td>\n",
       "    </tr>\n",
       "    <tr>\n",
       "      <th>1</th>\n",
       "      <td>2022/4/13</td>\n",
       "      <td>1022.37</td>\n",
       "      <td>981.08</td>\n",
       "      <td>1026.24</td>\n",
       "      <td>973.10</td>\n",
       "    </tr>\n",
       "    <tr>\n",
       "      <th>2</th>\n",
       "      <td>2022/4/12</td>\n",
       "      <td>986.95</td>\n",
       "      <td>997.64</td>\n",
       "      <td>1021.19</td>\n",
       "      <td>976.60</td>\n",
       "    </tr>\n",
       "    <tr>\n",
       "      <th>3</th>\n",
       "      <td>2022/4/11</td>\n",
       "      <td>975.93</td>\n",
       "      <td>980.40</td>\n",
       "      <td>1008.47</td>\n",
       "      <td>974.64</td>\n",
       "    </tr>\n",
       "    <tr>\n",
       "      <th>6</th>\n",
       "      <td>2022/4/8</td>\n",
       "      <td>1025.49</td>\n",
       "      <td>1043.21</td>\n",
       "      <td>1048.44</td>\n",
       "      <td>1022.43</td>\n",
       "    </tr>\n",
       "    <tr>\n",
       "      <th>...</th>\n",
       "      <td>...</td>\n",
       "      <td>...</td>\n",
       "      <td>...</td>\n",
       "      <td>...</td>\n",
       "      <td>...</td>\n",
       "    </tr>\n",
       "    <tr>\n",
       "      <th>2531</th>\n",
       "      <td>2012/4/18</td>\n",
       "      <td>6.53</td>\n",
       "      <td>6.42</td>\n",
       "      <td>6.55</td>\n",
       "      <td>6.31</td>\n",
       "    </tr>\n",
       "    <tr>\n",
       "      <th>2532</th>\n",
       "      <td>2012/4/18</td>\n",
       "      <td>6.53</td>\n",
       "      <td>6.42</td>\n",
       "      <td>6.55</td>\n",
       "      <td>6.31</td>\n",
       "    </tr>\n",
       "    <tr>\n",
       "      <th>2533</th>\n",
       "      <td>2012/4/18</td>\n",
       "      <td>6.53</td>\n",
       "      <td>6.42</td>\n",
       "      <td>6.55</td>\n",
       "      <td>6.31</td>\n",
       "    </tr>\n",
       "    <tr>\n",
       "      <th>2534</th>\n",
       "      <td>2012/4/18</td>\n",
       "      <td>6.53</td>\n",
       "      <td>6.42</td>\n",
       "      <td>6.55</td>\n",
       "      <td>6.31</td>\n",
       "    </tr>\n",
       "    <tr>\n",
       "      <th>2535</th>\n",
       "      <td>2012/4/17</td>\n",
       "      <td>6.45</td>\n",
       "      <td>6.49</td>\n",
       "      <td>6.61</td>\n",
       "      <td>6.41</td>\n",
       "    </tr>\n",
       "  </tbody>\n",
       "</table>\n",
       "<p>2486 rows × 5 columns</p>\n",
       "</div>"
      ],
      "text/plain": [
       "           Date    Price     Open     High      Low\n",
       "0     2022/4/14   985.00   999.29  1012.71   982.19\n",
       "1     2022/4/13  1022.37   981.08  1026.24   973.10\n",
       "2     2022/4/12   986.95   997.64  1021.19   976.60\n",
       "3     2022/4/11   975.93   980.40  1008.47   974.64\n",
       "6      2022/4/8  1025.49  1043.21  1048.44  1022.43\n",
       "...         ...      ...      ...      ...      ...\n",
       "2531  2012/4/18     6.53     6.42     6.55     6.31\n",
       "2532  2012/4/18     6.53     6.42     6.55     6.31\n",
       "2533  2012/4/18     6.53     6.42     6.55     6.31\n",
       "2534  2012/4/18     6.53     6.42     6.55     6.31\n",
       "2535  2012/4/17     6.45     6.49     6.61     6.41\n",
       "\n",
       "[2486 rows x 5 columns]"
      ]
     },
     "execution_count": 183,
     "metadata": {},
     "output_type": "execute_result"
    }
   ],
   "source": [
    "del_nan = data.drop(axis=0,index=position)\n",
    "del_nan"
   ]
  },
  {
   "cell_type": "markdown",
   "metadata": {},
   "source": [
    "# TASK2 删除重复的日期数据并打印出删除的行数"
   ]
  },
  {
   "cell_type": "code",
   "execution_count": 172,
   "metadata": {},
   "outputs": [],
   "source": [
    "# 将npdata用上一问去掉NaN的data frame更新\n",
    "npdata = del_nan.to_numpy()"
   ]
  },
  {
   "cell_type": "code",
   "execution_count": 107,
   "metadata": {},
   "outputs": [],
   "source": [
    "# 去重\n",
    "# Args: unique_date是保留的日期，left_rows是保留的行\n",
    "unique_date, left_rows = np.unique(npdata[:,0],return_index = True)"
   ]
  },
  {
   "cell_type": "code",
   "execution_count": 108,
   "metadata": {},
   "outputs": [
    {
     "name": "stdout",
     "output_type": "stream",
     "text": [
      "删除了8行\n"
     ]
    }
   ],
   "source": [
    "count = npdata[:,0].size-left_rows.size\n",
    "print(\"删除了{}行\".format(count))"
   ]
  },
  {
   "cell_type": "code",
   "execution_count": 179,
   "metadata": {},
   "outputs": [
    {
     "name": "stdout",
     "output_type": "stream",
     "text": [
      "有重复数据的行号为： [2471 2472 2479 2480 2481 2482 2483 2484]\n",
      "删除重复日期成功！\n"
     ]
    }
   ],
   "source": [
    "# 获取删除的行数\n",
    "del_rows = []\n",
    "for i in range(npdata[:,0].size):\n",
    "    if ((left_rows.__contains__(i))==False):\n",
    "        del_rows = np.append(del_rows,i).astype(int)\n",
    "print(\"有重复数据的行号为：\",del_rows)\n",
    "# 删除重复日期，保存在del_date中\n",
    "del_date = del_nan.drop(del_rows)\n",
    "print(\"删除重复日期成功！\")"
   ]
  },
  {
   "cell_type": "markdown",
   "metadata": {},
   "source": [
    "# TASK3 涨停跌停计算"
   ]
  },
  {
   "cell_type": "code",
   "execution_count": null,
   "metadata": {},
   "outputs": [],
   "source": []
  }
 ],
 "metadata": {
  "kernelspec": {
   "display_name": "Python [conda env:data]",
   "language": "python",
   "name": "conda-env-data-py"
  },
  "language_info": {
   "codemirror_mode": {
    "name": "ipython",
    "version": 3
   },
   "file_extension": ".py",
   "mimetype": "text/x-python",
   "name": "python",
   "nbconvert_exporter": "python",
   "pygments_lexer": "ipython3",
   "version": "3.8.13"
  }
 },
 "nbformat": 4,
 "nbformat_minor": 4
}
